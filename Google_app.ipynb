{
 "cells": [
  {
   "cell_type": "code",
   "execution_count": 2,
   "id": "45bc9090-ef90-460b-bfc3-8080d4833d0e",
   "metadata": {},
   "outputs": [],
   "source": [
    "import pandas as pd\n",
    "import numpy as np\n",
    "import seaborn as np\n",
    "import matplotlib.pyplot as plt \n"
   ]
  },
  {
   "cell_type": "code",
   "execution_count": 3,
   "id": "e4f2039a-57c5-4eb3-ba21-48aa97b52f5c",
   "metadata": {},
   "outputs": [
    {
     "data": {
      "text/html": [
       "<div>\n",
       "<style scoped>\n",
       "    .dataframe tbody tr th:only-of-type {\n",
       "        vertical-align: middle;\n",
       "    }\n",
       "\n",
       "    .dataframe tbody tr th {\n",
       "        vertical-align: top;\n",
       "    }\n",
       "\n",
       "    .dataframe thead th {\n",
       "        text-align: right;\n",
       "    }\n",
       "</style>\n",
       "<table border=\"1\" class=\"dataframe\">\n",
       "  <thead>\n",
       "    <tr style=\"text-align: right;\">\n",
       "      <th></th>\n",
       "      <th>App</th>\n",
       "      <th>Category</th>\n",
       "      <th>Rating</th>\n",
       "      <th>Reviews</th>\n",
       "      <th>Size</th>\n",
       "      <th>Installs</th>\n",
       "      <th>Type</th>\n",
       "      <th>Price</th>\n",
       "      <th>Content Rating</th>\n",
       "      <th>Genres</th>\n",
       "      <th>Last Updated</th>\n",
       "      <th>Current Ver</th>\n",
       "      <th>Android Ver</th>\n",
       "    </tr>\n",
       "  </thead>\n",
       "  <tbody>\n",
       "    <tr>\n",
       "      <th>0</th>\n",
       "      <td>Photo Editor &amp; Candy Camera &amp; Grid &amp; ScrapBook</td>\n",
       "      <td>ART_AND_DESIGN</td>\n",
       "      <td>4.1</td>\n",
       "      <td>159</td>\n",
       "      <td>19M</td>\n",
       "      <td>10,000+</td>\n",
       "      <td>Free</td>\n",
       "      <td>0</td>\n",
       "      <td>Everyone</td>\n",
       "      <td>Art &amp; Design</td>\n",
       "      <td>7-Jan-18</td>\n",
       "      <td>1.0.0</td>\n",
       "      <td>4.0.3 and up</td>\n",
       "    </tr>\n",
       "    <tr>\n",
       "      <th>1</th>\n",
       "      <td>Coloring book moana</td>\n",
       "      <td>ART_AND_DESIGN</td>\n",
       "      <td>3.9</td>\n",
       "      <td>967</td>\n",
       "      <td>14M</td>\n",
       "      <td>500,000+</td>\n",
       "      <td>Free</td>\n",
       "      <td>0</td>\n",
       "      <td>Everyone</td>\n",
       "      <td>Art &amp; Design;Pretend Play</td>\n",
       "      <td>15-Jan-18</td>\n",
       "      <td>2.0.0</td>\n",
       "      <td>4.0.3 and up</td>\n",
       "    </tr>\n",
       "    <tr>\n",
       "      <th>2</th>\n",
       "      <td>U Launcher Lite – FREE Live Cool Themes, Hide ...</td>\n",
       "      <td>ART_AND_DESIGN</td>\n",
       "      <td>4.7</td>\n",
       "      <td>87510</td>\n",
       "      <td>8.7M</td>\n",
       "      <td>5,000,000+</td>\n",
       "      <td>Free</td>\n",
       "      <td>0</td>\n",
       "      <td>Everyone</td>\n",
       "      <td>Art &amp; Design</td>\n",
       "      <td>1-Aug-18</td>\n",
       "      <td>1.2.4</td>\n",
       "      <td>4.0.3 and up</td>\n",
       "    </tr>\n",
       "    <tr>\n",
       "      <th>3</th>\n",
       "      <td>Sketch - Draw &amp; Paint</td>\n",
       "      <td>ART_AND_DESIGN</td>\n",
       "      <td>4.5</td>\n",
       "      <td>215644</td>\n",
       "      <td>25M</td>\n",
       "      <td>50,000,000+</td>\n",
       "      <td>Free</td>\n",
       "      <td>0</td>\n",
       "      <td>Teen</td>\n",
       "      <td>Art &amp; Design</td>\n",
       "      <td>8-Jun-18</td>\n",
       "      <td>Varies with device</td>\n",
       "      <td>4.2 and up</td>\n",
       "    </tr>\n",
       "    <tr>\n",
       "      <th>4</th>\n",
       "      <td>Pixel Draw - Number Art Coloring Book</td>\n",
       "      <td>ART_AND_DESIGN</td>\n",
       "      <td>4.3</td>\n",
       "      <td>967</td>\n",
       "      <td>2.8M</td>\n",
       "      <td>100,000+</td>\n",
       "      <td>Free</td>\n",
       "      <td>0</td>\n",
       "      <td>Everyone</td>\n",
       "      <td>Art &amp; Design;Creativity</td>\n",
       "      <td>20-Jun-18</td>\n",
       "      <td>1.1</td>\n",
       "      <td>4.4 and up</td>\n",
       "    </tr>\n",
       "    <tr>\n",
       "      <th>...</th>\n",
       "      <td>...</td>\n",
       "      <td>...</td>\n",
       "      <td>...</td>\n",
       "      <td>...</td>\n",
       "      <td>...</td>\n",
       "      <td>...</td>\n",
       "      <td>...</td>\n",
       "      <td>...</td>\n",
       "      <td>...</td>\n",
       "      <td>...</td>\n",
       "      <td>...</td>\n",
       "      <td>...</td>\n",
       "      <td>...</td>\n",
       "    </tr>\n",
       "    <tr>\n",
       "      <th>10836</th>\n",
       "      <td>Sya9a Maroc - FR</td>\n",
       "      <td>FAMILY</td>\n",
       "      <td>4.5</td>\n",
       "      <td>38</td>\n",
       "      <td>53M</td>\n",
       "      <td>5,000+</td>\n",
       "      <td>Free</td>\n",
       "      <td>0</td>\n",
       "      <td>Everyone</td>\n",
       "      <td>Education</td>\n",
       "      <td>25-Jul-17</td>\n",
       "      <td>1.48</td>\n",
       "      <td>4.1 and up</td>\n",
       "    </tr>\n",
       "    <tr>\n",
       "      <th>10837</th>\n",
       "      <td>Fr. Mike Schmitz Audio Teachings</td>\n",
       "      <td>FAMILY</td>\n",
       "      <td>5.0</td>\n",
       "      <td>4</td>\n",
       "      <td>3.6M</td>\n",
       "      <td>100+</td>\n",
       "      <td>Free</td>\n",
       "      <td>0</td>\n",
       "      <td>Everyone</td>\n",
       "      <td>Education</td>\n",
       "      <td>6-Jul-18</td>\n",
       "      <td>1</td>\n",
       "      <td>4.1 and up</td>\n",
       "    </tr>\n",
       "    <tr>\n",
       "      <th>10838</th>\n",
       "      <td>Parkinson Exercices FR</td>\n",
       "      <td>MEDICAL</td>\n",
       "      <td>NaN</td>\n",
       "      <td>3</td>\n",
       "      <td>9.5M</td>\n",
       "      <td>1,000+</td>\n",
       "      <td>Free</td>\n",
       "      <td>0</td>\n",
       "      <td>Everyone</td>\n",
       "      <td>Medical</td>\n",
       "      <td>20-Jan-17</td>\n",
       "      <td>1</td>\n",
       "      <td>2.2 and up</td>\n",
       "    </tr>\n",
       "    <tr>\n",
       "      <th>10839</th>\n",
       "      <td>The SCP Foundation DB fr nn5n</td>\n",
       "      <td>BOOKS_AND_REFERENCE</td>\n",
       "      <td>4.5</td>\n",
       "      <td>114</td>\n",
       "      <td>Varies with device</td>\n",
       "      <td>1,000+</td>\n",
       "      <td>Free</td>\n",
       "      <td>0</td>\n",
       "      <td>Mature 17+</td>\n",
       "      <td>Books &amp; Reference</td>\n",
       "      <td>19-Jan-15</td>\n",
       "      <td>Varies with device</td>\n",
       "      <td>Varies with device</td>\n",
       "    </tr>\n",
       "    <tr>\n",
       "      <th>10840</th>\n",
       "      <td>iHoroscope - 2018 Daily Horoscope &amp; Astrology</td>\n",
       "      <td>LIFESTYLE</td>\n",
       "      <td>4.5</td>\n",
       "      <td>398307</td>\n",
       "      <td>19M</td>\n",
       "      <td>10,000,000+</td>\n",
       "      <td>Free</td>\n",
       "      <td>0</td>\n",
       "      <td>Everyone</td>\n",
       "      <td>Lifestyle</td>\n",
       "      <td>25-Jul-18</td>\n",
       "      <td>Varies with device</td>\n",
       "      <td>Varies with device</td>\n",
       "    </tr>\n",
       "  </tbody>\n",
       "</table>\n",
       "<p>10841 rows × 13 columns</p>\n",
       "</div>"
      ],
      "text/plain": [
       "                                                     App             Category  \\\n",
       "0         Photo Editor & Candy Camera & Grid & ScrapBook       ART_AND_DESIGN   \n",
       "1                                    Coloring book moana       ART_AND_DESIGN   \n",
       "2      U Launcher Lite – FREE Live Cool Themes, Hide ...       ART_AND_DESIGN   \n",
       "3                                  Sketch - Draw & Paint       ART_AND_DESIGN   \n",
       "4                  Pixel Draw - Number Art Coloring Book       ART_AND_DESIGN   \n",
       "...                                                  ...                  ...   \n",
       "10836                                   Sya9a Maroc - FR               FAMILY   \n",
       "10837                   Fr. Mike Schmitz Audio Teachings               FAMILY   \n",
       "10838                             Parkinson Exercices FR              MEDICAL   \n",
       "10839                      The SCP Foundation DB fr nn5n  BOOKS_AND_REFERENCE   \n",
       "10840      iHoroscope - 2018 Daily Horoscope & Astrology            LIFESTYLE   \n",
       "\n",
       "       Rating Reviews                Size     Installs  Type Price  \\\n",
       "0         4.1     159                 19M      10,000+  Free     0   \n",
       "1         3.9     967                 14M     500,000+  Free     0   \n",
       "2         4.7   87510                8.7M   5,000,000+  Free     0   \n",
       "3         4.5  215644                 25M  50,000,000+  Free     0   \n",
       "4         4.3     967                2.8M     100,000+  Free     0   \n",
       "...       ...     ...                 ...          ...   ...   ...   \n",
       "10836     4.5      38                 53M       5,000+  Free     0   \n",
       "10837     5.0       4                3.6M         100+  Free     0   \n",
       "10838     NaN       3                9.5M       1,000+  Free     0   \n",
       "10839     4.5     114  Varies with device       1,000+  Free     0   \n",
       "10840     4.5  398307                 19M  10,000,000+  Free     0   \n",
       "\n",
       "      Content Rating                     Genres Last Updated  \\\n",
       "0           Everyone               Art & Design     7-Jan-18   \n",
       "1           Everyone  Art & Design;Pretend Play    15-Jan-18   \n",
       "2           Everyone               Art & Design     1-Aug-18   \n",
       "3               Teen               Art & Design     8-Jun-18   \n",
       "4           Everyone    Art & Design;Creativity    20-Jun-18   \n",
       "...              ...                        ...          ...   \n",
       "10836       Everyone                  Education    25-Jul-17   \n",
       "10837       Everyone                  Education     6-Jul-18   \n",
       "10838       Everyone                    Medical    20-Jan-17   \n",
       "10839     Mature 17+          Books & Reference    19-Jan-15   \n",
       "10840       Everyone                  Lifestyle    25-Jul-18   \n",
       "\n",
       "              Current Ver         Android Ver  \n",
       "0                   1.0.0        4.0.3 and up  \n",
       "1                   2.0.0        4.0.3 and up  \n",
       "2                   1.2.4        4.0.3 and up  \n",
       "3      Varies with device          4.2 and up  \n",
       "4                     1.1          4.4 and up  \n",
       "...                   ...                 ...  \n",
       "10836                1.48          4.1 and up  \n",
       "10837                   1          4.1 and up  \n",
       "10838                   1          2.2 and up  \n",
       "10839  Varies with device  Varies with device  \n",
       "10840  Varies with device  Varies with device  \n",
       "\n",
       "[10841 rows x 13 columns]"
      ]
     },
     "execution_count": 3,
     "metadata": {},
     "output_type": "execute_result"
    }
   ],
   "source": [
    "df = pd.read_csv(r\"C:\\Users\\ATOnile\\Downloads\\googleplaystore.csv\\googleplaystore.csv\")\n",
    "df"
   ]
  },
  {
   "cell_type": "code",
   "execution_count": 6,
   "id": "8c1774b2-0a22-4226-ad88-ea79d2ace86b",
   "metadata": {},
   "outputs": [
    {
     "data": {
      "text/html": [
       "<div>\n",
       "<style scoped>\n",
       "    .dataframe tbody tr th:only-of-type {\n",
       "        vertical-align: middle;\n",
       "    }\n",
       "\n",
       "    .dataframe tbody tr th {\n",
       "        vertical-align: top;\n",
       "    }\n",
       "\n",
       "    .dataframe thead th {\n",
       "        text-align: right;\n",
       "    }\n",
       "</style>\n",
       "<table border=\"1\" class=\"dataframe\">\n",
       "  <thead>\n",
       "    <tr style=\"text-align: right;\">\n",
       "      <th></th>\n",
       "      <th>App</th>\n",
       "      <th>Category</th>\n",
       "      <th>Rating</th>\n",
       "      <th>Reviews</th>\n",
       "      <th>Size</th>\n",
       "      <th>Installs</th>\n",
       "      <th>Type</th>\n",
       "      <th>Price</th>\n",
       "      <th>Content Rating</th>\n",
       "      <th>Genres</th>\n",
       "      <th>Last Updated</th>\n",
       "      <th>Current Ver</th>\n",
       "      <th>Android Ver</th>\n",
       "    </tr>\n",
       "  </thead>\n",
       "  <tbody>\n",
       "    <tr>\n",
       "      <th>0</th>\n",
       "      <td>Photo Editor &amp; Candy Camera &amp; Grid &amp; ScrapBook</td>\n",
       "      <td>ART_AND_DESIGN</td>\n",
       "      <td>4.1</td>\n",
       "      <td>159</td>\n",
       "      <td>19M</td>\n",
       "      <td>10,000+</td>\n",
       "      <td>Free</td>\n",
       "      <td>0</td>\n",
       "      <td>Everyone</td>\n",
       "      <td>Art &amp; Design</td>\n",
       "      <td>7-Jan-18</td>\n",
       "      <td>1.0.0</td>\n",
       "      <td>4.0.3 and up</td>\n",
       "    </tr>\n",
       "    <tr>\n",
       "      <th>1</th>\n",
       "      <td>Coloring book moana</td>\n",
       "      <td>ART_AND_DESIGN</td>\n",
       "      <td>3.9</td>\n",
       "      <td>967</td>\n",
       "      <td>14M</td>\n",
       "      <td>500,000+</td>\n",
       "      <td>Free</td>\n",
       "      <td>0</td>\n",
       "      <td>Everyone</td>\n",
       "      <td>Art &amp; Design;Pretend Play</td>\n",
       "      <td>15-Jan-18</td>\n",
       "      <td>2.0.0</td>\n",
       "      <td>4.0.3 and up</td>\n",
       "    </tr>\n",
       "  </tbody>\n",
       "</table>\n",
       "</div>"
      ],
      "text/plain": [
       "                                              App        Category  Rating  \\\n",
       "0  Photo Editor & Candy Camera & Grid & ScrapBook  ART_AND_DESIGN     4.1   \n",
       "1                             Coloring book moana  ART_AND_DESIGN     3.9   \n",
       "\n",
       "  Reviews Size  Installs  Type Price Content Rating  \\\n",
       "0     159  19M   10,000+  Free     0       Everyone   \n",
       "1     967  14M  500,000+  Free     0       Everyone   \n",
       "\n",
       "                      Genres Last Updated Current Ver   Android Ver  \n",
       "0               Art & Design     7-Jan-18       1.0.0  4.0.3 and up  \n",
       "1  Art & Design;Pretend Play    15-Jan-18       2.0.0  4.0.3 and up  "
      ]
     },
     "execution_count": 6,
     "metadata": {},
     "output_type": "execute_result"
    }
   ],
   "source": [
    "df.head(2)"
   ]
  },
  {
   "cell_type": "code",
   "execution_count": 7,
   "id": "f8af1441-75b6-48ac-95b1-d43f1e1d3290",
   "metadata": {},
   "outputs": [
    {
     "data": {
      "text/plain": [
       "App                  0\n",
       "Category             0\n",
       "Rating            1474\n",
       "Reviews              0\n",
       "Size                 0\n",
       "Installs             0\n",
       "Type                 1\n",
       "Price                0\n",
       "Content Rating       1\n",
       "Genres               0\n",
       "Last Updated         0\n",
       "Current Ver          8\n",
       "Android Ver          3\n",
       "dtype: int64"
      ]
     },
     "execution_count": 7,
     "metadata": {},
     "output_type": "execute_result"
    }
   ],
   "source": [
    "df.isnull().sum()"
   ]
  },
  {
   "cell_type": "code",
   "execution_count": 8,
   "id": "f80c6092-c5ba-4fcb-bb5b-5c3a9248c157",
   "metadata": {},
   "outputs": [],
   "source": [
    "df['Rating'].ffill(inplace = True)"
   ]
  },
  {
   "cell_type": "code",
   "execution_count": 10,
   "id": "575d7a6a-b909-4b52-9784-6fea945ba109",
   "metadata": {},
   "outputs": [],
   "source": [
    "df['Type'].ffill(inplace = True)\n"
   ]
  },
  {
   "cell_type": "code",
   "execution_count": 12,
   "id": "bc8a9596-b704-4f7b-a794-7b5dbf4196b9",
   "metadata": {},
   "outputs": [],
   "source": [
    "df['Content Rating'].ffill(inplace = True)"
   ]
  },
  {
   "cell_type": "code",
   "execution_count": 14,
   "id": "7a96b284-5d06-4416-8cb2-1f3514d795e0",
   "metadata": {},
   "outputs": [],
   "source": [
    "df['Android Ver'].bfill(inplace = True)\n"
   ]
  },
  {
   "cell_type": "code",
   "execution_count": 16,
   "id": "80b18f60-5dc9-4b04-929a-64240aec152b",
   "metadata": {},
   "outputs": [],
   "source": [
    "mode = df['Current Ver'].mode()[0]\n"
   ]
  },
  {
   "cell_type": "code",
   "execution_count": 18,
   "id": "b34bbac7-046c-4e66-bf77-d0f5dbfc4835",
   "metadata": {},
   "outputs": [],
   "source": [
    "df['Current Ver'].fillna(mode, inplace = True)"
   ]
  },
  {
   "cell_type": "code",
   "execution_count": 20,
   "id": "1c31f17b-9621-4047-b2d2-f2fa27684876",
   "metadata": {},
   "outputs": [
    {
     "data": {
      "text/plain": [
       "App               0\n",
       "Category          0\n",
       "Rating            0\n",
       "Reviews           0\n",
       "Size              0\n",
       "Installs          0\n",
       "Type              0\n",
       "Price             0\n",
       "Content Rating    0\n",
       "Genres            0\n",
       "Last Updated      0\n",
       "Current Ver       0\n",
       "Android Ver       0\n",
       "dtype: int64"
      ]
     },
     "execution_count": 20,
     "metadata": {},
     "output_type": "execute_result"
    }
   ],
   "source": [
    "df.isnull().sum()"
   ]
  },
  {
   "cell_type": "markdown",
   "id": "7f1c5200-b13a-4570-992d-c65f6cabcb9e",
   "metadata": {},
   "source": [
    "# Total Number of Apps"
   ]
  },
  {
   "cell_type": "code",
   "execution_count": 22,
   "id": "042b4e00-6cf2-4dec-994e-84eb7dd97674",
   "metadata": {},
   "outputs": [],
   "source": [
    " total_app = df['App'].nunique()"
   ]
  },
  {
   "cell_type": "code",
   "execution_count": 24,
   "id": "c81064c8-b72f-4fbf-bdfa-5cb4a77dc538",
   "metadata": {},
   "outputs": [
    {
     "data": {
      "text/plain": [
       "App\n",
       "ROBLOX                                                9\n",
       "CBS Sports App - Scores, News, Stats & Watch Live     8\n",
       "ESPN                                                  7\n",
       "Duolingo: Learn Languages Free                        7\n",
       "Candy Crush Saga                                      7\n",
       "                                                     ..\n",
       "Meet U - Get Friends for Snapchat, Kik & Instagram    1\n",
       "U-Report                                              1\n",
       "U of I Community Credit Union                         1\n",
       "Waiting For U Launcher Theme                          1\n",
       "iHoroscope - 2018 Daily Horoscope & Astrology         1\n",
       "Name: count, Length: 9660, dtype: int64"
      ]
     },
     "execution_count": 24,
     "metadata": {},
     "output_type": "execute_result"
    }
   ],
   "source": [
    "df['App'].value_counts()"
   ]
  },
  {
   "cell_type": "markdown",
   "id": "438c3cf4-d18a-40bf-a7f8-a21fd15d06d8",
   "metadata": {},
   "source": [
    "# Average Rating:"
   ]
  },
  {
   "cell_type": "code",
   "execution_count": 26,
   "id": "d977c3e1-c426-46e3-8245-30395a9036e9",
   "metadata": {},
   "outputs": [
    {
     "data": {
      "text/plain": [
       "4.192943455400793"
      ]
     },
     "execution_count": 26,
     "metadata": {},
     "output_type": "execute_result"
    }
   ],
   "source": [
    "df['Rating'].mean()"
   ]
  },
  {
   "cell_type": "markdown",
   "id": "40c5b3f1-2a85-43c7-8ec0-15ca754b096c",
   "metadata": {},
   "source": [
    "# Total Downloads:"
   ]
  },
  {
   "cell_type": "code",
   "execution_count": 185,
   "id": "62283348-9cd9-46fe-b271-2d7c548bafba",
   "metadata": {},
   "outputs": [
    {
     "data": {
      "text/plain": [
       "App                       object\n",
       "Category                  object\n",
       "Rating                   float64\n",
       "Reviews                   object\n",
       "Size                      object\n",
       "Installs                  object\n",
       "Type                      object\n",
       "Price                      int32\n",
       "Content Rating            object\n",
       "Genres                    object\n",
       "Last Updated      datetime64[ns]\n",
       "Current Ver               object\n",
       "Android Ver               object\n",
       "size_MB                  float64\n",
       "review                   float64\n",
       "year                     float64\n",
       "dtype: object"
      ]
     },
     "execution_count": 185,
     "metadata": {},
     "output_type": "execute_result"
    }
   ],
   "source": [
    "df.dtypes"
   ]
  },
  {
   "cell_type": "code",
   "execution_count": 183,
   "id": "eed862b4-8d0e-4edc-b7a5-697e1314fccc",
   "metadata": {},
   "outputs": [],
   "source": [
    "df['Installs'] = df['Installs'].astype(str) "
   ]
  },
  {
   "cell_type": "code",
   "execution_count": 187,
   "id": "ff859c0e-20a7-4c4a-a1cd-4e3b11771b08",
   "metadata": {},
   "outputs": [
    {
     "data": {
      "text/plain": [
       "0           10000\n",
       "1          500000\n",
       "2         5000000\n",
       "3        50000000\n",
       "4          100000\n",
       "           ...   \n",
       "10836        5000\n",
       "10837         100\n",
       "10838        1000\n",
       "10839        1000\n",
       "10840    10000000\n",
       "Name: Installs, Length: 10841, dtype: object"
      ]
     },
     "execution_count": 187,
     "metadata": {},
     "output_type": "execute_result"
    }
   ],
   "source": [
    "df['Installs'] = df['Installs'].str.replace('+', '', regex = False).str.replace(',', '',regex = False)\n",
    "df['Installs'] "
   ]
  },
  {
   "cell_type": "code",
   "execution_count": 177,
   "id": "b4fd4337-8891-4b62-8e88-facb34691c2b",
   "metadata": {},
   "outputs": [
    {
     "data": {
      "text/plain": [
       "0           10000\n",
       "1          500000\n",
       "2         5000000\n",
       "3        50000000\n",
       "4          100000\n",
       "           ...   \n",
       "10836        5000\n",
       "10837         100\n",
       "10838        1000\n",
       "10839        1000\n",
       "10840    10000000\n",
       "Name: Installs, Length: 10841, dtype: int32"
      ]
     },
     "execution_count": 177,
     "metadata": {},
     "output_type": "execute_result"
    }
   ],
   "source": [
    "df['Installs'] = pd.to_numeric(df['Installs'],errors='coerce')\n",
    "df['Installs']"
   ]
  },
  {
   "cell_type": "code",
   "execution_count": 34,
   "id": "b52d9788-4503-4ac1-a12c-1598411f763d",
   "metadata": {},
   "outputs": [
    {
     "data": {
      "text/plain": [
       "167633433487.0"
      ]
     },
     "execution_count": 34,
     "metadata": {},
     "output_type": "execute_result"
    }
   ],
   "source": [
    "df['Installs'].sum()"
   ]
  },
  {
   "cell_type": "markdown",
   "id": "d3903efb-3511-4bdc-bda8-08ec195bf6c5",
   "metadata": {},
   "source": [
    "# Apps by Category:"
   ]
  },
  {
   "cell_type": "code",
   "execution_count": 36,
   "id": "8dd394f9-a17e-4dea-8a15-35cb180eb32a",
   "metadata": {},
   "outputs": [
    {
     "data": {
      "text/plain": [
       "Category\n",
       "1.9                       1\n",
       "ART_AND_DESIGN           65\n",
       "AUTO_AND_VEHICLES        85\n",
       "BEAUTY                   53\n",
       "BOOKS_AND_REFERENCE     231\n",
       "BUSINESS                460\n",
       "COMICS                   60\n",
       "COMMUNICATION           387\n",
       "DATING                  234\n",
       "EDUCATION               156\n",
       "ENTERTAINMENT           149\n",
       "EVENTS                   64\n",
       "FAMILY                 1972\n",
       "FINANCE                 366\n",
       "FOOD_AND_DRINK          127\n",
       "GAME                   1144\n",
       "HEALTH_AND_FITNESS      341\n",
       "HOUSE_AND_HOME           88\n",
       "LIBRARIES_AND_DEMO       85\n",
       "LIFESTYLE               382\n",
       "MAPS_AND_NAVIGATION     137\n",
       "MEDICAL                 463\n",
       "NEWS_AND_MAGAZINES      283\n",
       "PARENTING                60\n",
       "PERSONALIZATION         392\n",
       "PHOTOGRAPHY             335\n",
       "PRODUCTIVITY            424\n",
       "SHOPPING                260\n",
       "SOCIAL                  295\n",
       "SPORTS                  384\n",
       "TOOLS                   843\n",
       "TRAVEL_AND_LOCAL        258\n",
       "VIDEO_PLAYERS           175\n",
       "WEATHER                  82\n",
       "Name: App, dtype: int64"
      ]
     },
     "execution_count": 36,
     "metadata": {},
     "output_type": "execute_result"
    }
   ],
   "source": [
    "app_grouped = df.groupby('Category')['App'].count()\n",
    "app_grouped"
   ]
  },
  {
   "cell_type": "markdown",
   "id": "ae962f9d-f585-4735-9dbc-81b258607b0e",
   "metadata": {},
   "source": [
    "# Average Size of Apps:"
   ]
  },
  {
   "cell_type": "code",
   "execution_count": 38,
   "id": "2672b5ac-ee00-4897-ad7b-79348d88c488",
   "metadata": {},
   "outputs": [],
   "source": [
    "def convert_size(size):\n",
    "    if 'M' in size:\n",
    "        return float(size.replace('M','',).strip())\n",
    "    elif 'K' in size:\n",
    "        return float(size.replace('K','').strip()/1024)\n",
    "    else :\n",
    "        return None"
   ]
  },
  {
   "cell_type": "code",
   "execution_count": 40,
   "id": "e1c61a1e-6ecb-4b3a-87f9-7a6efedfaba5",
   "metadata": {},
   "outputs": [
    {
     "data": {
      "text/plain": [
       "0        19.0\n",
       "1        14.0\n",
       "2         8.7\n",
       "3        25.0\n",
       "4         2.8\n",
       "         ... \n",
       "10836    53.0\n",
       "10837     3.6\n",
       "10838     9.5\n",
       "10839     NaN\n",
       "10840    19.0\n",
       "Name: size_MB, Length: 10841, dtype: float64"
      ]
     },
     "execution_count": 40,
     "metadata": {},
     "output_type": "execute_result"
    }
   ],
   "source": [
    "df['size_MB'] = df['Size'].apply(convert_size)\n",
    "df['size_MB'] "
   ]
  },
  {
   "cell_type": "code",
   "execution_count": 42,
   "id": "642ef452-f453-487a-9b2a-e5cc9a24be7f",
   "metadata": {},
   "outputs": [],
   "source": [
    "df['size_MB'].ffill(inplace = True)"
   ]
  },
  {
   "cell_type": "markdown",
   "id": "3b61bd4a-89c7-485f-951e-087e330ece34",
   "metadata": {},
   "source": [
    "# Developer Response Rate:"
   ]
  },
  {
   "cell_type": "code",
   "execution_count": 46,
   "id": "66fade06-b91f-4f71-a769-dac1296f51d8",
   "metadata": {},
   "outputs": [
    {
     "data": {
      "text/plain": [
       "10840"
      ]
     },
     "execution_count": 46,
     "metadata": {},
     "output_type": "execute_result"
    }
   ],
   "source": [
    " df['review'] = pd.to_numeric(df['Reviews'], errors = 'coerce')\n",
    " count = df['review'].count()\n",
    " count"
   ]
  },
  {
   "cell_type": "code",
   "execution_count": 48,
   "id": "e8c90f91-d2e8-47c2-8272-8b620dd37172",
   "metadata": {},
   "outputs": [
    {
     "data": {
      "text/plain": [
       "112.21532091097308"
      ]
     },
     "execution_count": 48,
     "metadata": {},
     "output_type": "execute_result"
    }
   ],
   "source": [
    " developer_response = (count /total_app)*100\n",
    " developer_response"
   ]
  },
  {
   "cell_type": "markdown",
   "id": "ee44dd0d-caef-4b6d-afc9-33d707e27815",
   "metadata": {},
   "source": [
    "# Growth Rate of Apps:"
   ]
  },
  {
   "cell_type": "code",
   "execution_count": 50,
   "id": "1c5d45f7-5cfe-4505-93e3-9b638ab50cc3",
   "metadata": {},
   "outputs": [
    {
     "data": {
      "text/plain": [
       "App               0\n",
       "Category          0\n",
       "Rating            0\n",
       "Reviews           0\n",
       "Size              0\n",
       "Installs          1\n",
       "Type              0\n",
       "Price             0\n",
       "Content Rating    0\n",
       "Genres            0\n",
       "Last Updated      0\n",
       "Current Ver       0\n",
       "Android Ver       0\n",
       "size_MB           0\n",
       "review            1\n",
       "dtype: int64"
      ]
     },
     "execution_count": 50,
     "metadata": {},
     "output_type": "execute_result"
    }
   ],
   "source": [
    "df.isnull().sum()"
   ]
  },
  {
   "cell_type": "code",
   "execution_count": 58,
   "id": "5a4b44ac-d9d7-418a-9856-10d99d27a378",
   "metadata": {},
   "outputs": [
    {
     "data": {
      "text/plain": [
       "0       2018-01-07\n",
       "1       2018-01-15\n",
       "2       2018-08-01\n",
       "3       2018-06-08\n",
       "4       2018-06-20\n",
       "           ...    \n",
       "10836   2017-07-25\n",
       "10837   2018-07-06\n",
       "10838   2017-01-20\n",
       "10839   2015-01-19\n",
       "10840   2018-07-25\n",
       "Name: Last Updated, Length: 10841, dtype: datetime64[ns]"
      ]
     },
     "execution_count": 58,
     "metadata": {},
     "output_type": "execute_result"
    }
   ],
   "source": [
    "df['Last Updated'] = pd.to_datetime(df['Last Updated'], errors='coerce')\n",
    "df['Last Updated']"
   ]
  },
  {
   "cell_type": "code",
   "execution_count": 64,
   "id": "267668c1-bbb4-40d8-a38c-34beb043ebdd",
   "metadata": {},
   "outputs": [
    {
     "data": {
      "text/plain": [
       "0        2018.0\n",
       "1        2018.0\n",
       "2        2018.0\n",
       "3        2018.0\n",
       "4        2018.0\n",
       "          ...  \n",
       "10836    2017.0\n",
       "10837    2018.0\n",
       "10838    2017.0\n",
       "10839    2015.0\n",
       "10840    2018.0\n",
       "Name: year, Length: 10841, dtype: float64"
      ]
     },
     "execution_count": 64,
     "metadata": {},
     "output_type": "execute_result"
    }
   ],
   "source": [
    "df['year'] = df['Last Updated'].dt.year\n",
    "df['year']"
   ]
  },
  {
   "cell_type": "code",
   "execution_count": 68,
   "id": "f7513f71-ad63-4272-a8db-0a0a8811e532",
   "metadata": {},
   "outputs": [
    {
     "data": {
      "text/plain": [
       "2010.0"
      ]
     },
     "execution_count": 68,
     "metadata": {},
     "output_type": "execute_result"
    }
   ],
   "source": [
    "start_year = df['year'].min()\n",
    "start_year "
   ]
  },
  {
   "cell_type": "code",
   "execution_count": 74,
   "id": "194f2166-351b-4d9b-9f1f-ee17b4f77699",
   "metadata": {},
   "outputs": [
    {
     "data": {
      "text/plain": [
       "year\n",
       "2010.0       1\n",
       "2011.0      15\n",
       "2012.0      26\n",
       "2013.0     108\n",
       "2014.0     203\n",
       "2015.0     451\n",
       "2016.0     779\n",
       "2017.0    1796\n",
       "2018.0    6287\n",
       "Name: App, dtype: int64"
      ]
     },
     "execution_count": 74,
     "metadata": {},
     "output_type": "execute_result"
    }
   ],
   "source": [
    "new_apps_per_year = df.groupby('year')['App'].nunique()\n",
    "new_apps_per_year"
   ]
  },
  {
   "cell_type": "code",
   "execution_count": 89,
   "id": "bbbae243-6f60-4eba-8f0f-252dfb509e6c",
   "metadata": {},
   "outputs": [
    {
     "data": {
      "text/plain": [
       "year\n",
       "2010.0       0\n",
       "2011.0       1\n",
       "2012.0      16\n",
       "2013.0      42\n",
       "2014.0     150\n",
       "2015.0     353\n",
       "2016.0     804\n",
       "2017.0    1583\n",
       "2018.0    3379\n",
       "Name: App, dtype: int64"
      ]
     },
     "execution_count": 89,
     "metadata": {},
     "output_type": "execute_result"
    }
   ],
   "source": [
    "app_at_start = new_apps_per_year.cumsum().shift(fill_value=0)\n",
    "app_at_start"
   ]
  },
  {
   "cell_type": "code",
   "execution_count": 93,
   "id": "9cfb8bf6-5f2b-482c-b6be-5b820f484825",
   "metadata": {},
   "outputs": [
    {
     "data": {
      "text/plain": [
       "year\n",
       "2010.0     100.000000\n",
       "2011.0    1500.000000\n",
       "2012.0     162.500000\n",
       "2013.0     257.142857\n",
       "2014.0     135.333333\n",
       "2015.0     127.762040\n",
       "2016.0      96.890547\n",
       "2017.0     113.455464\n",
       "2018.0     186.060965\n",
       "Name: App, dtype: float64"
      ]
     },
     "execution_count": 93,
     "metadata": {},
     "output_type": "execute_result"
    }
   ],
   "source": [
    "growth_rate = (new_apps_per_year / total_apps_at_start.replace(0, 1)) * 100\n",
    "growth_rate"
   ]
  },
  {
   "cell_type": "code",
   "execution_count": 95,
   "id": "08635530-9347-4448-925c-198fecbc6a91",
   "metadata": {},
   "outputs": [
    {
     "data": {
      "text/html": [
       "<div>\n",
       "<style scoped>\n",
       "    .dataframe tbody tr th:only-of-type {\n",
       "        vertical-align: middle;\n",
       "    }\n",
       "\n",
       "    .dataframe tbody tr th {\n",
       "        vertical-align: top;\n",
       "    }\n",
       "\n",
       "    .dataframe thead th {\n",
       "        text-align: right;\n",
       "    }\n",
       "</style>\n",
       "<table border=\"1\" class=\"dataframe\">\n",
       "  <thead>\n",
       "    <tr style=\"text-align: right;\">\n",
       "      <th></th>\n",
       "      <th>Year</th>\n",
       "      <th>New Apps</th>\n",
       "      <th>Total Apps at Start</th>\n",
       "      <th>Growth Rate (%)</th>\n",
       "    </tr>\n",
       "  </thead>\n",
       "  <tbody>\n",
       "    <tr>\n",
       "      <th>0</th>\n",
       "      <td>2010.0</td>\n",
       "      <td>1</td>\n",
       "      <td>0</td>\n",
       "      <td>100.000000</td>\n",
       "    </tr>\n",
       "    <tr>\n",
       "      <th>1</th>\n",
       "      <td>2011.0</td>\n",
       "      <td>15</td>\n",
       "      <td>1</td>\n",
       "      <td>1500.000000</td>\n",
       "    </tr>\n",
       "    <tr>\n",
       "      <th>2</th>\n",
       "      <td>2012.0</td>\n",
       "      <td>26</td>\n",
       "      <td>16</td>\n",
       "      <td>162.500000</td>\n",
       "    </tr>\n",
       "    <tr>\n",
       "      <th>3</th>\n",
       "      <td>2013.0</td>\n",
       "      <td>108</td>\n",
       "      <td>42</td>\n",
       "      <td>257.142857</td>\n",
       "    </tr>\n",
       "    <tr>\n",
       "      <th>4</th>\n",
       "      <td>2014.0</td>\n",
       "      <td>203</td>\n",
       "      <td>150</td>\n",
       "      <td>135.333333</td>\n",
       "    </tr>\n",
       "    <tr>\n",
       "      <th>5</th>\n",
       "      <td>2015.0</td>\n",
       "      <td>451</td>\n",
       "      <td>353</td>\n",
       "      <td>127.762040</td>\n",
       "    </tr>\n",
       "    <tr>\n",
       "      <th>6</th>\n",
       "      <td>2016.0</td>\n",
       "      <td>779</td>\n",
       "      <td>804</td>\n",
       "      <td>96.890547</td>\n",
       "    </tr>\n",
       "    <tr>\n",
       "      <th>7</th>\n",
       "      <td>2017.0</td>\n",
       "      <td>1796</td>\n",
       "      <td>1583</td>\n",
       "      <td>113.455464</td>\n",
       "    </tr>\n",
       "    <tr>\n",
       "      <th>8</th>\n",
       "      <td>2018.0</td>\n",
       "      <td>6287</td>\n",
       "      <td>3379</td>\n",
       "      <td>186.060965</td>\n",
       "    </tr>\n",
       "  </tbody>\n",
       "</table>\n",
       "</div>"
      ],
      "text/plain": [
       "     Year  New Apps  Total Apps at Start  Growth Rate (%)\n",
       "0  2010.0         1                    0       100.000000\n",
       "1  2011.0        15                    1      1500.000000\n",
       "2  2012.0        26                   16       162.500000\n",
       "3  2013.0       108                   42       257.142857\n",
       "4  2014.0       203                  150       135.333333\n",
       "5  2015.0       451                  353       127.762040\n",
       "6  2016.0       779                  804        96.890547\n",
       "7  2017.0      1796                 1583       113.455464\n",
       "8  2018.0      6287                 3379       186.060965"
      ]
     },
     "execution_count": 95,
     "metadata": {},
     "output_type": "execute_result"
    }
   ],
   "source": [
    "growth_rate_df = pd.DataFrame({\n",
    "    'Year': new_apps_per_year.index,\n",
    "    'New Apps': new_apps_per_year.values,\n",
    "    'Total Apps at Start': total_apps_at_start.values,\n",
    "    'Growth Rate (%)': growth_rate.values\n",
    "})\n",
    "growth_rate_df"
   ]
  },
  {
   "cell_type": "markdown",
   "id": "cf221bed-830b-4211-abd1-54fb5c462c4c",
   "metadata": {},
   "source": [
    "# Average Price of Paid Apps:"
   ]
  },
  {
   "cell_type": "code",
   "execution_count": 130,
   "id": "c5776176-2af6-4194-81a6-f73c39126855",
   "metadata": {},
   "outputs": [
    {
     "data": {
      "text/plain": [
       "0        0\n",
       "1        0\n",
       "2        0\n",
       "3        0\n",
       "4        0\n",
       "        ..\n",
       "10836    0\n",
       "10837    0\n",
       "10838    0\n",
       "10839    0\n",
       "10840    0\n",
       "Name: Price, Length: 10841, dtype: int32"
      ]
     },
     "execution_count": 130,
     "metadata": {},
     "output_type": "execute_result"
    }
   ],
   "source": [
    "\n",
    "df['Price'] = pd.to_numeric(df['Price'], errors = 'coerce')\n",
    "df['Price'].interpolate( inplace=True)\n",
    "df['Price'] = df['Price'].astype(int)\n",
    "df['Price']"
   ]
  },
  {
   "cell_type": "code",
   "execution_count": 136,
   "id": "e0e26c85-a96e-450b-9868-184a4c0b87a9",
   "metadata": {},
   "outputs": [
    {
     "data": {
      "text/plain": [
       "App               0\n",
       "Category          0\n",
       "Rating            0\n",
       "Reviews           0\n",
       "Size              0\n",
       "Installs          1\n",
       "Type              0\n",
       "Price             0\n",
       "Content Rating    0\n",
       "Genres            0\n",
       "Last Updated      1\n",
       "Current Ver       0\n",
       "Android Ver       0\n",
       "size_MB           0\n",
       "review            1\n",
       "year              1\n",
       "dtype: int64"
      ]
     },
     "execution_count": 136,
     "metadata": {},
     "output_type": "execute_result"
    }
   ],
   "source": [
    "df.isnull().sum()"
   ]
  },
  {
   "cell_type": "code",
   "execution_count": 201,
   "id": "17a77c84-7f33-47ae-bfbe-33a92256e69c",
   "metadata": {},
   "outputs": [
    {
     "data": {
      "text/plain": [
       "App                       object\n",
       "Category                  object\n",
       "Rating                   float64\n",
       "Reviews                   object\n",
       "Size                      object\n",
       "Installs                  object\n",
       "Type                      object\n",
       "Price                      int32\n",
       "Content Rating            object\n",
       "Genres                    object\n",
       "Last Updated      datetime64[ns]\n",
       "Current Ver               object\n",
       "Android Ver               object\n",
       "size_MB                  float64\n",
       "review                   float64\n",
       "year                     float64\n",
       "dtype: object"
      ]
     },
     "execution_count": 201,
     "metadata": {},
     "output_type": "execute_result"
    }
   ],
   "source": [
    "df.dtypes"
   ]
  },
  {
   "cell_type": "code",
   "execution_count": 132,
   "id": "0e801430-d06b-472c-957d-5fee36fdea05",
   "metadata": {},
   "outputs": [
    {
     "data": {
      "text/plain": [
       "0.0"
      ]
     },
     "execution_count": 132,
     "metadata": {},
     "output_type": "execute_result"
    }
   ],
   "source": [
    "df['Price'].mean()"
   ]
  },
  {
   "cell_type": "markdown",
   "id": "29eb5ed5-01fa-41cf-9d50-fa1852ef4fb8",
   "metadata": {},
   "source": [
    "# User Engagement:"
   ]
  },
  {
   "cell_type": "code",
   "execution_count": 205,
   "id": "1528afd1-bc94-44bd-94a9-6047b2c928a9",
   "metadata": {},
   "outputs": [],
   "source": [
    "df['Rating'] = pd.to_numeric(df['Rating'], errors='coerce')\n",
    "rating = df['Rating'].mean()\n",
    "rating\n",
    "df['Installs'] = pd.to_numeric(df['Installs'], errors='coerce') "
   ]
  },
  {
   "cell_type": "code",
   "execution_count": 207,
   "id": "4a3e1482-db5a-4c07-b369-4a01672df267",
   "metadata": {},
   "outputs": [
    {
     "data": {
      "text/plain": [
       "0        4.192943e+04\n",
       "1        2.096472e+06\n",
       "2        2.096472e+07\n",
       "3        2.096472e+08\n",
       "4        4.192943e+05\n",
       "             ...     \n",
       "10836    2.096472e+04\n",
       "10837    4.192943e+02\n",
       "10838    4.192943e+03\n",
       "10839    4.192943e+03\n",
       "10840    4.192943e+07\n",
       "Name: Installs, Length: 10841, dtype: float64"
      ]
     },
     "execution_count": 207,
     "metadata": {},
     "output_type": "execute_result"
    }
   ],
   "source": [
    "User_Engagement = rating*df['Installs']\n",
    "User_Engagement"
   ]
  },
  {
   "cell_type": "code",
   "execution_count": 211,
   "id": "b9777711-4333-4952-ac72-e1a2d8bff057",
   "metadata": {},
   "outputs": [
    {
     "data": {
      "text/plain": [
       "Index(['App', 'Category', 'Rating', 'Reviews', 'Size', 'Installs', 'Type',\n",
       "       'Price', 'Content Rating', 'Genres', 'Last Updated', 'Current Ver',\n",
       "       'Android Ver', 'size_MB', 'review', 'year'],\n",
       "      dtype='object')"
      ]
     },
     "execution_count": 211,
     "metadata": {},
     "output_type": "execute_result"
    }
   ],
   "source": [
    "df.columns"
   ]
  },
  {
   "cell_type": "code",
   "execution_count": null,
   "id": "6159e550-bb8c-4bd3-ab73-ce2fc0fa4d54",
   "metadata": {},
   "outputs": [],
   "source": []
  }
 ],
 "metadata": {
  "kernelspec": {
   "display_name": "Python 3 (ipykernel)",
   "language": "python",
   "name": "python3"
  },
  "language_info": {
   "codemirror_mode": {
    "name": "ipython",
    "version": 3
   },
   "file_extension": ".py",
   "mimetype": "text/x-python",
   "name": "python",
   "nbconvert_exporter": "python",
   "pygments_lexer": "ipython3",
   "version": "3.11.5"
  }
 },
 "nbformat": 4,
 "nbformat_minor": 5
}
